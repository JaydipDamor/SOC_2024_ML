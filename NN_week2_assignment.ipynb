{
  "nbformat": 4,
  "nbformat_minor": 0,
  "metadata": {
    "colab": {
      "provenance": [],
      "gpuType": "T4"
    },
    "kernelspec": {
      "name": "python3",
      "display_name": "Python 3"
    },
    "language_info": {
      "name": "python"
    },
    "accelerator": "GPU"
  },
  "cells": [
    {
      "cell_type": "code",
      "source": [
        "import zipfile\n",
        "import os\n",
        "import numpy as np\n",
        "import tensorflow as tf\n",
        "from sklearn.model_selection import train_test_split\n",
        "from tensorflow.keras.preprocessing.image import ImageDataGenerator\n",
        "from tensorflow.keras.models import Sequential\n",
        "from tensorflow.keras.layers import Flatten, Dense\n",
        "import random\n"
      ],
      "metadata": {
        "id": "whf_Y66hZfTc"
      },
      "execution_count": 178,
      "outputs": []
    },
    {
      "cell_type": "code",
      "source": [
        "np.random.seed(42)\n",
        "tf.random.set_seed(42)"
      ],
      "metadata": {
        "id": "h2gvQuWQZlYz"
      },
      "execution_count": 179,
      "outputs": []
    },
    {
      "cell_type": "code",
      "source": [
        "zip_file_path = '/content/homer_bart.zip'\n",
        "extract_dir = 'homer_bart'\n",
        "if not os.path.exists(extract_dir):\n",
        "    os.makedirs(extract_dir)\n",
        "with zipfile.ZipFile(zip_file_path, 'r') as zip_ref:\n",
        "    zip_ref.extractall(extract_dir)\n",
        "print(os.listdir(extract_dir))\n"
      ],
      "metadata": {
        "colab": {
          "base_uri": "https://localhost:8080/"
        },
        "id": "6X1O9pASZscU",
        "outputId": "359a9d50-d070-4e6d-a1f5-5d557c876d61"
      },
      "execution_count": 180,
      "outputs": [
        {
          "output_type": "stream",
          "name": "stdout",
          "text": [
            "['Bart', 'Homer']\n"
          ]
        }
      ]
    },
    {
      "cell_type": "code",
      "source": [
        "# Step 2: Preprocess the Images\n",
        "data_dir = 'homer_bart'\n",
        "batch_size = 32\n",
        "img_size = (64, 64)\n",
        "datagen = ImageDataGenerator(rescale=1./255)\n",
        "image_generator = datagen.flow_from_directory(\n",
        "    data_dir,\n",
        "    target_size=img_size,\n",
        "    batch_size=batch_size,\n",
        "    class_mode='binary',\n",
        "    shuffle=True\n",
        ")\n",
        "file_paths = image_generator.filepaths\n",
        "labels = image_generator.classes\n"
      ],
      "metadata": {
        "colab": {
          "base_uri": "https://localhost:8080/"
        },
        "id": "JhJthsobZzjI",
        "outputId": "b5f8cdd2-f51a-47ab-e476-f35e0831f846"
      },
      "execution_count": 181,
      "outputs": [
        {
          "output_type": "stream",
          "name": "stdout",
          "text": [
            "Found 269 images belonging to 2 classes.\n"
          ]
        }
      ]
    },
    {
      "cell_type": "code",
      "source": [
        "# Split into training and test sets with a fixed random seed\n",
        "train_paths, test_paths, train_labels, test_labels = train_test_split(\n",
        "    file_paths, labels, test_size=0.1, stratify=labels, random_state=42\n",
        ")\n",
        "\n",
        "# Function to load and preprocess images\n",
        "def load_and_preprocess_image(path):\n",
        "    img = tf.keras.preprocessing.image.load_img(path, target_size=img_size)\n",
        "    img = tf.keras.preprocessing.image.img_to_array(img)\n",
        "    img = img / 255.0  # Normalize\n",
        "    return img\n"
      ],
      "metadata": {
        "id": "uOOSEWDMZ9hM"
      },
      "execution_count": 182,
      "outputs": []
    },
    {
      "cell_type": "code",
      "source": [
        "# Load and preprocess training and test datasets\n",
        "train_images = np.array([load_and_preprocess_image(path) for path in train_paths])\n",
        "test_images = np.array([load_and_preprocess_image(path) for path in test_paths])\n",
        "\n",
        "# Create TensorFlow datasets\n",
        "train_dataset = tf.data.Dataset.from_tensor_slices((train_images, train_labels)).batch(batch_size)\n",
        "test_dataset = tf.data.Dataset.from_tensor_slices((test_images, test_labels)).batch(batch_size)\n"
      ],
      "metadata": {
        "id": "CX9i5cxaaGD5"
      },
      "execution_count": 183,
      "outputs": []
    },
    {
      "cell_type": "code",
      "source": [
        "# Step 3: Build and Train the Neural Network\n",
        "model = Sequential([\n",
        "    Flatten(input_shape=(64, 64, 3)),\n",
        "    Dense(100, activation='relu'),\n",
        "    Dense(20, activation='relu'),\n",
        "    Dense(1, activation='sigmoid')\n",
        "])\n",
        "model.compile(optimizer='adam', loss='binary_crossentropy', metrics=['accuracy'])\n",
        "history = model.fit(train_dataset, epochs=80)\n",
        "\n"
      ],
      "metadata": {
        "colab": {
          "base_uri": "https://localhost:8080/"
        },
        "id": "7_U48KAnb9hX",
        "outputId": "619e11dc-4ddc-4ca5-b1a4-4c26ce9a78ab"
      },
      "execution_count": 188,
      "outputs": [
        {
          "output_type": "stream",
          "name": "stdout",
          "text": [
            "Epoch 1/80\n",
            "8/8 [==============================] - 1s 4ms/step - loss: 3.2180 - accuracy: 0.4876\n",
            "Epoch 2/80\n",
            "8/8 [==============================] - 0s 4ms/step - loss: 0.8195 - accuracy: 0.5661\n",
            "Epoch 3/80\n",
            "8/8 [==============================] - 0s 4ms/step - loss: 0.5830 - accuracy: 0.6777\n",
            "Epoch 4/80\n",
            "8/8 [==============================] - 0s 4ms/step - loss: 0.5563 - accuracy: 0.7149\n",
            "Epoch 5/80\n",
            "8/8 [==============================] - 0s 4ms/step - loss: 0.5329 - accuracy: 0.7273\n",
            "Epoch 6/80\n",
            "8/8 [==============================] - 0s 4ms/step - loss: 0.4960 - accuracy: 0.7479\n",
            "Epoch 7/80\n",
            "8/8 [==============================] - 0s 4ms/step - loss: 0.4661 - accuracy: 0.7686\n",
            "Epoch 8/80\n",
            "8/8 [==============================] - 0s 4ms/step - loss: 0.4567 - accuracy: 0.7975\n",
            "Epoch 9/80\n",
            "8/8 [==============================] - 0s 4ms/step - loss: 0.4705 - accuracy: 0.7686\n",
            "Epoch 10/80\n",
            "8/8 [==============================] - 0s 5ms/step - loss: 0.5137 - accuracy: 0.7479\n",
            "Epoch 11/80\n",
            "8/8 [==============================] - 0s 5ms/step - loss: 0.6025 - accuracy: 0.7107\n",
            "Epoch 12/80\n",
            "8/8 [==============================] - 0s 5ms/step - loss: 0.7331 - accuracy: 0.6736\n",
            "Epoch 13/80\n",
            "8/8 [==============================] - 0s 5ms/step - loss: 0.8334 - accuracy: 0.6488\n",
            "Epoch 14/80\n",
            "8/8 [==============================] - 0s 4ms/step - loss: 0.8155 - accuracy: 0.6322\n",
            "Epoch 15/80\n",
            "8/8 [==============================] - 0s 4ms/step - loss: 0.5101 - accuracy: 0.7438\n",
            "Epoch 16/80\n",
            "8/8 [==============================] - 0s 4ms/step - loss: 0.4118 - accuracy: 0.8182\n",
            "Epoch 17/80\n",
            "8/8 [==============================] - 0s 4ms/step - loss: 0.3519 - accuracy: 0.8554\n",
            "Epoch 18/80\n",
            "8/8 [==============================] - 0s 4ms/step - loss: 0.3163 - accuracy: 0.8554\n",
            "Epoch 19/80\n",
            "8/8 [==============================] - 0s 4ms/step - loss: 0.2759 - accuracy: 0.8802\n",
            "Epoch 20/80\n",
            "8/8 [==============================] - 0s 4ms/step - loss: 0.2516 - accuracy: 0.8967\n",
            "Epoch 21/80\n",
            "8/8 [==============================] - 0s 4ms/step - loss: 0.2467 - accuracy: 0.9050\n",
            "Epoch 22/80\n",
            "8/8 [==============================] - 0s 5ms/step - loss: 0.2320 - accuracy: 0.9215\n",
            "Epoch 23/80\n",
            "8/8 [==============================] - 0s 4ms/step - loss: 0.2215 - accuracy: 0.9174\n",
            "Epoch 24/80\n",
            "8/8 [==============================] - 0s 4ms/step - loss: 0.2128 - accuracy: 0.9298\n",
            "Epoch 25/80\n",
            "8/8 [==============================] - 0s 4ms/step - loss: 0.2004 - accuracy: 0.9463\n",
            "Epoch 26/80\n",
            "8/8 [==============================] - 0s 4ms/step - loss: 0.1907 - accuracy: 0.9545\n",
            "Epoch 27/80\n",
            "8/8 [==============================] - 0s 4ms/step - loss: 0.1788 - accuracy: 0.9669\n",
            "Epoch 28/80\n",
            "8/8 [==============================] - 0s 4ms/step - loss: 0.1717 - accuracy: 0.9752\n",
            "Epoch 29/80\n",
            "8/8 [==============================] - 0s 4ms/step - loss: 0.1588 - accuracy: 0.9835\n",
            "Epoch 30/80\n",
            "8/8 [==============================] - 0s 5ms/step - loss: 0.1506 - accuracy: 0.9835\n",
            "Epoch 31/80\n",
            "8/8 [==============================] - 0s 5ms/step - loss: 0.1405 - accuracy: 0.9835\n",
            "Epoch 32/80\n",
            "8/8 [==============================] - 0s 5ms/step - loss: 0.1322 - accuracy: 0.9876\n",
            "Epoch 33/80\n",
            "8/8 [==============================] - 0s 4ms/step - loss: 0.1237 - accuracy: 0.9876\n",
            "Epoch 34/80\n",
            "8/8 [==============================] - 0s 5ms/step - loss: 0.1171 - accuracy: 0.9876\n",
            "Epoch 35/80\n",
            "8/8 [==============================] - 0s 4ms/step - loss: 0.1116 - accuracy: 0.9917\n",
            "Epoch 36/80\n",
            "8/8 [==============================] - 0s 4ms/step - loss: 0.1067 - accuracy: 0.9959\n",
            "Epoch 37/80\n",
            "8/8 [==============================] - 0s 4ms/step - loss: 0.1039 - accuracy: 0.9917\n",
            "Epoch 38/80\n",
            "8/8 [==============================] - 0s 4ms/step - loss: 0.1014 - accuracy: 0.9959\n",
            "Epoch 39/80\n",
            "8/8 [==============================] - 0s 4ms/step - loss: 0.1021 - accuracy: 0.9917\n",
            "Epoch 40/80\n",
            "8/8 [==============================] - 0s 4ms/step - loss: 0.0997 - accuracy: 0.9917\n",
            "Epoch 41/80\n",
            "8/8 [==============================] - 0s 4ms/step - loss: 0.1022 - accuracy: 0.9917\n",
            "Epoch 42/80\n",
            "8/8 [==============================] - 0s 5ms/step - loss: 0.1021 - accuracy: 0.9876\n",
            "Epoch 43/80\n",
            "8/8 [==============================] - 0s 4ms/step - loss: 0.1046 - accuracy: 0.9876\n",
            "Epoch 44/80\n",
            "8/8 [==============================] - 0s 4ms/step - loss: 0.1005 - accuracy: 0.9876\n",
            "Epoch 45/80\n",
            "8/8 [==============================] - 0s 4ms/step - loss: 0.0996 - accuracy: 0.9835\n",
            "Epoch 46/80\n",
            "8/8 [==============================] - 0s 5ms/step - loss: 0.1024 - accuracy: 0.9917\n",
            "Epoch 47/80\n",
            "8/8 [==============================] - 0s 4ms/step - loss: 0.0987 - accuracy: 0.9835\n",
            "Epoch 48/80\n",
            "8/8 [==============================] - 0s 4ms/step - loss: 0.0976 - accuracy: 0.9793\n",
            "Epoch 49/80\n",
            "8/8 [==============================] - 0s 4ms/step - loss: 0.0956 - accuracy: 0.9793\n",
            "Epoch 50/80\n",
            "8/8 [==============================] - 0s 5ms/step - loss: 0.0925 - accuracy: 0.9793\n",
            "Epoch 51/80\n",
            "8/8 [==============================] - 0s 4ms/step - loss: 0.0948 - accuracy: 0.9835\n",
            "Epoch 52/80\n",
            "8/8 [==============================] - 0s 5ms/step - loss: 0.0994 - accuracy: 0.9752\n",
            "Epoch 53/80\n",
            "8/8 [==============================] - 0s 5ms/step - loss: 0.1009 - accuracy: 0.9793\n",
            "Epoch 54/80\n",
            "8/8 [==============================] - 0s 5ms/step - loss: 0.1010 - accuracy: 0.9628\n",
            "Epoch 55/80\n",
            "8/8 [==============================] - 0s 4ms/step - loss: 0.1015 - accuracy: 0.9669\n",
            "Epoch 56/80\n",
            "8/8 [==============================] - 0s 4ms/step - loss: 0.1115 - accuracy: 0.9587\n",
            "Epoch 57/80\n",
            "8/8 [==============================] - 0s 4ms/step - loss: 0.1194 - accuracy: 0.9545\n",
            "Epoch 58/80\n",
            "8/8 [==============================] - 0s 4ms/step - loss: 0.1486 - accuracy: 0.9339\n",
            "Epoch 59/80\n",
            "8/8 [==============================] - 0s 4ms/step - loss: 0.1849 - accuracy: 0.9215\n",
            "Epoch 60/80\n",
            "8/8 [==============================] - 0s 4ms/step - loss: 0.2238 - accuracy: 0.8719\n",
            "Epoch 61/80\n",
            "8/8 [==============================] - 0s 5ms/step - loss: 0.3250 - accuracy: 0.8347\n",
            "Epoch 62/80\n",
            "8/8 [==============================] - 0s 4ms/step - loss: 0.3252 - accuracy: 0.8223\n",
            "Epoch 63/80\n",
            "8/8 [==============================] - 0s 4ms/step - loss: 0.3734 - accuracy: 0.8678\n",
            "Epoch 64/80\n",
            "8/8 [==============================] - 0s 4ms/step - loss: 0.7078 - accuracy: 0.7438\n",
            "Epoch 65/80\n",
            "8/8 [==============================] - 0s 4ms/step - loss: 0.9963 - accuracy: 0.6983\n",
            "Epoch 66/80\n",
            "8/8 [==============================] - 0s 4ms/step - loss: 0.7083 - accuracy: 0.6860\n",
            "Epoch 67/80\n",
            "8/8 [==============================] - 0s 4ms/step - loss: 0.3070 - accuracy: 0.8512\n",
            "Epoch 68/80\n",
            "8/8 [==============================] - 0s 4ms/step - loss: 0.1857 - accuracy: 0.9215\n",
            "Epoch 69/80\n",
            "8/8 [==============================] - 0s 4ms/step - loss: 0.1073 - accuracy: 0.9545\n",
            "Epoch 70/80\n",
            "8/8 [==============================] - 0s 7ms/step - loss: 0.1314 - accuracy: 0.9380\n",
            "Epoch 71/80\n",
            "8/8 [==============================] - 0s 6ms/step - loss: 0.0878 - accuracy: 0.9669\n",
            "Epoch 72/80\n",
            "8/8 [==============================] - 0s 6ms/step - loss: 0.0673 - accuracy: 0.9917\n",
            "Epoch 73/80\n",
            "8/8 [==============================] - 0s 7ms/step - loss: 0.0590 - accuracy: 0.9835\n",
            "Epoch 74/80\n",
            "8/8 [==============================] - 0s 5ms/step - loss: 0.0521 - accuracy: 0.9917\n",
            "Epoch 75/80\n",
            "8/8 [==============================] - 0s 6ms/step - loss: 0.0495 - accuracy: 0.9959\n",
            "Epoch 76/80\n",
            "8/8 [==============================] - 0s 6ms/step - loss: 0.0445 - accuracy: 0.9959\n",
            "Epoch 77/80\n",
            "8/8 [==============================] - 0s 6ms/step - loss: 0.0411 - accuracy: 0.9959\n",
            "Epoch 78/80\n",
            "8/8 [==============================] - 0s 7ms/step - loss: 0.0389 - accuracy: 0.9959\n",
            "Epoch 79/80\n",
            "8/8 [==============================] - 0s 6ms/step - loss: 0.0362 - accuracy: 0.9959\n",
            "Epoch 80/80\n",
            "8/8 [==============================] - 0s 6ms/step - loss: 0.0347 - accuracy: 0.9959\n"
          ]
        }
      ]
    },
    {
      "cell_type": "code",
      "source": [
        "test_loss, test_accuracy = model.evaluate(test_dataset)\n",
        "print(f'Test Accuracy: {test_accuracy}')\n"
      ],
      "metadata": {
        "colab": {
          "base_uri": "https://localhost:8080/"
        },
        "id": "XcrbPtqeAMRn",
        "outputId": "dfa70ec2-0e9f-402b-c435-f923f8107733"
      },
      "execution_count": 189,
      "outputs": [
        {
          "output_type": "stream",
          "name": "stdout",
          "text": [
            "1/1 [==============================] - 0s 183ms/step - loss: 0.4327 - accuracy: 0.8889\n",
            "Test Accuracy: 0.8888888955116272\n"
          ]
        }
      ]
    }
  ]
}